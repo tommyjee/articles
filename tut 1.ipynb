{
 "cells": [
  {
   "cell_type": "markdown",
   "metadata": {},
   "source": [
    "# Pandas Tutorial: Importing Data with read_csv"
   ]
  },
  {
   "cell_type": "markdown",
   "metadata": {},
   "source": [
    "## Loading your CSV file into Python with Pandas"
   ]
  },
  {
   "cell_type": "markdown",
   "metadata": {},
   "source": [
    "### The first step to any data science project is to import your data. Often, you'll work with data in Comma Separated Value (CSV) files. Learn how to use pandas to import CSV files so that you can use Python to start your analysis."
   ]
  },
  {
   "cell_type": "markdown",
   "metadata": {},
   "source": [
    "Before we can use `pandas` to import our data, we need to know where our data file is in our file system and what our current working directory is. You'll see why this is important very soon, but let's review some basic concepts and Shell commands so that we can locate the data file we'll be importing into Python in this tutorial."
   ]
  },
  {
   "cell_type": "markdown",
   "metadata": {},
   "source": [
    "Everything on the computer is stored in the filesystem. 'Directories' is just another word for 'files'. The working directory is simply the directory you're currently in. Here are some Shell commands you can use to navigate your way in the filesystem:\n",
    "\n",
    "- The `pwd` command prints your current working directory.\n",
    "- The `ls` command lists all the files and sub-directories (i.e. directories in the current working directory).\n",
    "- The `cd` command followed the name of a sub-directory allows you to change your working directory to the sub-directory you specify.\n",
    "\n",
    "Using these commands, can you locate the `tbd_data.csv` file?"
   ]
  },
  {
   "cell_type": "markdown",
   "metadata": {},
   "source": [
    "------------------------------------------------------------------------------------------------------\n",
    "*Insert DataCamp's Terminal console here for readers to interact with for early engagement*\n",
    "\n",
    "*Like this but with Terminal console embedded:*\n",
    "![](embedded_console.png)"
   ]
  },
  {
   "cell_type": "markdown",
   "metadata": {
    "collapsed": true
   },
   "source": [
    "------------------------------------------------------------------------------------------------------\n"
   ]
  },
  {
   "cell_type": "markdown",
   "metadata": {},
   "source": [
    "Great! Now that we know where the data is in our system, let's import it into Python using `read_csv` in `pandas`. Note that the `pandas` library is usually imported under the alias `pd`:"
   ]
  },
  {
   "cell_type": "code",
   "execution_count": 2,
   "metadata": {
    "collapsed": true
   },
   "outputs": [],
   "source": [
    "# import pandas as pd\n",
    "# tbd_df = pd.read_csv(\"cd/tbd_data.csv\")\n",
    "# tbd_df2 = pd.read_csv(\"working/directory/cd/tbd_data.csv\")\n",
    "# print(tbd_df == tbd_df2)"
   ]
  },
  {
   "cell_type": "markdown",
   "metadata": {},
   "source": [
    "As you can see in the code chunk above, the file path in `read_csv` can be specified two ways. You can choose to include the full file path including working directory or just include the relative file path. The `read_csv` function is smart enough decipher automatically whether the full or relative file path is passed.\n",
    "\n",
    "In the following sections, we'll go over some other powerful features of the `read_csv` function."
   ]
  },
  {
   "cell_type": "markdown",
   "metadata": {},
   "source": [
    "Include content from these exercises:\n",
    "\n",
    "https://campus.datacamp.com/courses/importing-data-in-python-part-1/introduction-and-flat-files-1?ex=15\n",
    "https://campus.datacamp.com/courses/importing-data-in-python-part-1/introduction-and-flat-files-1?ex=17\n",
    "https://campus.datacamp.com/courses/importing-data-in-python-part-1/introduction-and-flat-files-1?ex=18\n",
    "\n",
    "## 1. Header and names\n",
    "\n",
    "\n",
    "## 2. Delimiters\n",
    "- `delimiter` and `delim_whitespace` arguments\n",
    "\n",
    "## 3. Something else"
   ]
  },
  {
   "cell_type": "markdown",
   "metadata": {},
   "source": [
    "## Final thoughts:\n",
    "https://campus.datacamp.com/courses/importing-data-in-python-part-1/introduction-and-flat-files-1?ex=19"
   ]
  },
  {
   "cell_type": "code",
   "execution_count": null,
   "metadata": {
    "collapsed": true
   },
   "outputs": [],
   "source": []
  }
 ],
 "metadata": {
  "kernelspec": {
   "display_name": "Python 3",
   "language": "python",
   "name": "python3"
  },
  "language_info": {
   "codemirror_mode": {
    "name": "ipython",
    "version": 3
   },
   "file_extension": ".py",
   "mimetype": "text/x-python",
   "name": "python",
   "nbconvert_exporter": "python",
   "pygments_lexer": "ipython3",
   "version": "3.6.2"
  }
 },
 "nbformat": 4,
 "nbformat_minor": 2
}
